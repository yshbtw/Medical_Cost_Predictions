{
 "cells": [
  {
   "cell_type": "code",
   "execution_count": null,
   "id": "7ad15302-1d54-403e-97d0-5f0c4a04e5cc",
   "metadata": {},
   "outputs": [],
   "source": []
  }
 ],
 "metadata": {
  "kernelspec": {
   "display_name": "",
   "name": ""
  },
  "language_info": {
   "name": ""
  }
 },
 "nbformat": 4,
 "nbformat_minor": 5
}
